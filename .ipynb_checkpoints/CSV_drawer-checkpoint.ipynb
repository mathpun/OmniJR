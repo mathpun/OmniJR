{
 "cells": [
  {
   "cell_type": "code",
   "execution_count": 6,
   "metadata": {},
   "outputs": [
    {
     "name": "stdout",
     "output_type": "stream",
     "text": [
      "Populating the interactive namespace from numpy and matplotlib\n"
     ]
    }
   ],
   "source": [
    "import json\n",
    "from parser import *\n",
    "import io \n",
    "import IPython.display\n",
    "import os \n",
    "import base64\n",
    "import numpy as np\n",
    "%pylab inline\n",
    "import shutil\n",
    "import scipy\n",
    "from scipy import ndimage\n",
    "import pdb\n",
    "import seaborn as sns\n",
    "from datetime import datetime\n",
    "import dateutil.parser\n",
    "import csv\n",
    "\n",
    "sns.set_style(\"white\")\n",
    "\n",
    "outputFolder = \"test_out/\"\n",
    "in_file = \"L6.csv\"\n"
   ]
  },
  {
   "cell_type": "code",
   "execution_count": 38,
   "metadata": {},
   "outputs": [],
   "source": [
    "\n",
    "def plotstroke_new(ax, xs, ys, onecolor, file_ind, outputDirectory):\n",
    "    #print onestroke\n",
    "    ySizeOfImage = 500\n",
    "    xSizeOfImage = 500\n",
    "    assert(len(xs) == len(ys))\n",
    "    #this flips the axis \n",
    "#     ax.invert_yaxis()\n",
    "    \n",
    "    for i in range(len(xs)):\n",
    "        x, y = xs[:i], ys[:i]\n",
    "        temp_plot = ax.plot(x,y,lw=12, color=onecolor)\n",
    "        savefig(outputDirectory + 'image%02d_%04d' %(file_ind, i))\n",
    "    \n",
    "    ax.invert_yaxis()\n",
    "    \n",
    "#     ## TOMER EDITING HERE\n",
    "#     strokeDirectory = outputFolder + \"tomerInsanity/\"\n",
    "#     f2 = figure()\n",
    "#     ax2 = f2.gca()\n",
    "#     ax2.invert_yaxis()\n",
    "#     for i in range(len(xs)):\n",
    "#         x, y = xs[:i], ys[:i]\n",
    "#         temp_plot = ax2.plot(x,y,lw=3, color=onecolor)\n",
    "#     ## TOMER EDITING HERE\n",
    "#     savefig(strokeDirectory + \"stroke\" + str(file_ind))\n",
    "#     ax2.invert_yaxis()\n",
    "#     ## TOMER END EDITING HERE"
   ]
  },
  {
   "cell_type": "code",
   "execution_count": 39,
   "metadata": {},
   "outputs": [],
   "source": [
    "def makeimage(file, outputDirectory):\n",
    "\n",
    "    strokeColors = [\"blue\",\"red\",\"green\",\"yellow\",\"magenta\",\"black\",\n",
    "                   \"cyan\", sns.xkcd_rgb[\"poop\"], sns.xkcd_rgb[\"faded green\"],sns.xkcd_rgb[\"dusty purple\"],\n",
    "                    sns.xkcd_rgb[\"hot pink\"],sns.xkcd_rgb[\"golden yellow\"],sns.xkcd_rgb[\"electric purple\"],\n",
    "                    sns.xkcd_rgb[\"light lime\"],sns.xkcd_rgb[\"egg shell\"],sns.xkcd_rgb[\"brick red\"],\n",
    "                    sns.xkcd_rgb[\"baby blue\"],sns.xkcd_rgb[\"yellow\"],sns.xkcd_rgb[\"violet\"],sns.xkcd_rgb[\"aqua\"],\n",
    "                    sns.xkcd_rgb[\"brick red\"],sns.xkcd_rgb[\"lilac\"],sns.xkcd_rgb[\"olive\"],sns.xkcd_rgb[\"olive\"],\n",
    "                    sns.xkcd_rgb[\"peach\"],sns.xkcd_rgb[\"lime\"],sns.xkcd_rgb[\"dark pink\"],\n",
    "                    sns.xkcd_rgb[\"navy\"],sns.xkcd_rgb[\"rust\"],sns.xkcd_rgb[\"slate\"],\n",
    "                    sns.xkcd_rgb[\"coral\"],sns.xkcd_rgb[\"sage\"],sns.xkcd_rgb[\"grape\"],\n",
    "                    sns.xkcd_rgb[\"wine\"],sns.xkcd_rgb[\"vomit\"],sns.xkcd_rgb[\"sky\"],\n",
    "                    sns.xkcd_rgb[\"lemon\"],sns.xkcd_rgb[\"maize\"],sns.xkcd_rgb[\"celery\"],\n",
    "                    sns.xkcd_rgb[\"wheat\"],sns.xkcd_rgb[\"watermelon\"],sns.xkcd_rgb[\"drab\"],\n",
    "                    sns.xkcd_rgb[\"snot\"],sns.xkcd_rgb[\"berry\"],sns.xkcd_rgb[\"golden\"],\n",
    "                    sns.xkcd_rgb[\"wine\"],sns.xkcd_rgb[\"vomit\"],sns.xkcd_rgb[\"sky\"],\n",
    "                    sns.xkcd_rgb[\"lemon\"],sns.xkcd_rgb[\"maize\"],sns.xkcd_rgb[\"celery\"]\n",
    "                   ]\n",
    "    strokeColors = [\"black\"] #THIS MAKES ALL STROKES BLACK, ALSO HAVE TO FIX SOMEWHERE ELSE TO GO BACK TO COLORS\n",
    "    #strokes = letter[u'strokes']\n",
    "    strokes = list(letter)\n",
    "    f = figure() # ray\n",
    "    ax = f.gca() # ray\n",
    "    yticks([])\n",
    "    xticks([])\n",
    "    xlim(0,500)\n",
    "    ylim(0,500)\n",
    "    allX = []\n",
    "    allY = []\n",
    "    allStrokeNumbers = []\n",
    "    \n",
    "    #Added\n",
    "    allTimes = []\n",
    "    init_time = list(strokes[0])[0][0]\n",
    "    init_time_index = dateutil.parser.parse(init_time)\n",
    "    def rel_time_index(p):\n",
    "        time = p[0]\n",
    "        td =  dateutil.parser.parse(time) - init_time_index\n",
    "        ms = int(td.seconds*1000 + td.microseconds/1000)\n",
    "        return ms\n",
    "    \n",
    "    for i in range(len(strokes)):\n",
    "        color = strokeColors[0] #MAKE THE 0 AN i TO GO BACK TO COLORS\n",
    "        stroke = strokes[i] \n",
    "        stroke = [w for w in stroke]\n",
    "        xs = map(getx, stroke)\n",
    "        ys = map(gety, stroke)\n",
    "        times = map(rel_time_index, stroke)\n",
    "        allX.append(xs)\n",
    "        allY.append(ys)\n",
    "        allStrokeNumbers.append([i+1]*len(stroke))\n",
    "        #Added\n",
    "        allTimes.append(times)\n",
    "        \n",
    "        plotstroke_new(ax, stroke, color, i, outputDirectory)\n",
    "    allX = flatList(allX)\n",
    "    allY = flatList(allY)\n",
    "    allStrokeNumbers = flatList(allStrokeNumbers)\n",
    "    \n",
    "    #Added\n",
    "    allTimes = flatList(allTimes)\n",
    "    joint = array([allX, allY, allTimes, allStrokeNumbers]).transpose()\n",
    "    savetxt(outputDirectory + \"data.csv\", joint, delimiter=\",\")"
   ]
  },
  {
   "cell_type": "code",
   "execution_count": 51,
   "metadata": {},
   "outputs": [
    {
     "name": "stdout",
     "output_type": "stream",
     "text": [
      "[[236.0, 383.0, 5416.0, 3.0], [234.0, 377.0, 5429.0, 3.0], [233.0, 375.0, 5453.0, 3.0], [233.0, 377.0, 5487.0, 3.0], [235.0, 383.0, 5499.0, 3.0], [239.0, 388.0, 5512.0, 3.0], [241.0, 391.0, 5539.0, 3.0], [244.0, 394.0, 5555.0, 3.0], [246.0, 397.0, 5566.0, 3.0], [246.0, 399.0, 5579.0, 3.0], [247.0, 400.0, 5595.0, 3.0], [247.0, 401.0, 5596.0, 3.0], [248.0, 403.0, 5628.0, 3.0], [248.0, 404.0, 5640.0, 3.0], [248.0, 405.0, 5657.0, 3.0], [248.0, 406.0, 5678.0, 3.0], [247.0, 406.0, 5750.0, 3.0], [247.0, 407.0, 5795.0, 3.0], [247.0, 409.0, 5815.0, 3.0], [249.0, 412.0, 5829.0, 3.0], [252.0, 416.0, 5853.0, 3.0], [256.0, 421.0, 5870.0, 3.0], [261.0, 426.0, 5882.0, 3.0], [266.0, 432.0, 5894.0, 3.0], [270.0, 438.0, 5922.0, 3.0], [275.0, 443.0, 5935.0, 3.0], [278.0, 448.0, 5948.0, 3.0], [282.0, 453.0, 5963.0, 3.0], [285.0, 456.0, 5984.0, 3.0], [287.0, 459.0, 6002.0, 3.0], [289.0, 462.0, 6016.0, 3.0], [290.0, 464.0, 6041.0, 3.0], [291.0, 466.0, 6058.0, 3.0], [292.0, 468.0, 6074.0, 3.0], [296.0, 473.0, 6095.0, 3.0], [297.0, 477.0, 6110.0, 3.0], [300.0, 480.0, 6133.0, 3.0], [302.0, 483.0, 6154.0, 3.0], [304.0, 486.0, 6165.0, 3.0], [306.0, 488.0, 6178.0, 3.0], [309.0, 489.0, 6193.0, 3.0], [313.0, 489.0, 6221.0, 3.0]]\n"
     ]
    }
   ],
   "source": [
    "with open(in_file, newline='') as csvfile:\n",
    "    rows = [list(map(float, row)) for row in csv.reader(csvfile, delimiter=',')]\n",
    "    strokes = []\n",
    "    curr_stroke = []\n",
    "    stroke_idx = 0\n",
    "    \n",
    "    for row in rows:\n",
    "        if row[3] != stroke_idx:\n",
    "            stroke_idx = row[3]\n",
    "            strokes.append(curr_stroke)\n",
    "            curr_stroke = []\n",
    "        curr_stroke.append(row)\n",
    "    strokes.append(curr_stroke)\n",
    "    \n",
    "    \n",
    "    \n",
    "#     f = figure() # ray\n",
    "#     ax = f.gca() # ray\n",
    "    \n",
    "#     plotstroke_new(ax, xs, ys, \"blue\", 0, outputFolder)"
   ]
  },
  {
   "cell_type": "code",
   "execution_count": null,
   "metadata": {},
   "outputs": [],
   "source": []
  },
  {
   "cell_type": "code",
   "execution_count": null,
   "metadata": {},
   "outputs": [],
   "source": []
  }
 ],
 "metadata": {
  "kernelspec": {
   "display_name": "Python 3",
   "language": "python",
   "name": "python3"
  },
  "language_info": {
   "codemirror_mode": {
    "name": "ipython",
    "version": 3
   },
   "file_extension": ".py",
   "mimetype": "text/x-python",
   "name": "python",
   "nbconvert_exporter": "python",
   "pygments_lexer": "ipython3",
   "version": "3.7.4"
  }
 },
 "nbformat": 4,
 "nbformat_minor": 2
}
