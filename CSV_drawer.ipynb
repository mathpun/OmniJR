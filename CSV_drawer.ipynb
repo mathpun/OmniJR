{
 "cells": [
  {
   "cell_type": "code",
   "execution_count": 97,
   "metadata": {},
   "outputs": [
    {
     "name": "stdout",
     "output_type": "stream",
     "text": [
      "Populating the interactive namespace from numpy and matplotlib\n"
     ]
    }
   ],
   "source": [
    "import json\n",
    "from parser import *\n",
    "import io \n",
    "import IPython.display\n",
    "import os \n",
    "import base64\n",
    "import numpy as np\n",
    "%pylab inline\n",
    "import shutil\n",
    "import scipy\n",
    "from scipy import ndimage\n",
    "import pdb\n",
    "import seaborn as sns\n",
    "from datetime import datetime\n",
    "import dateutil.parser\n",
    "import csv\n",
    "\n",
    "sns.set_style(\"white\")\n",
    "\n",
    "outputFolder = \"test_out/\"\n",
    "in_file = \"ch35_1.csv\"\n"
   ]
  },
  {
   "cell_type": "code",
   "execution_count": 98,
   "metadata": {},
   "outputs": [],
   "source": [
    "def terminalUnfuck(string):\n",
    "    newString = string.replace(\" \", \"\\ \")\n",
    "    newString = newString.replace(\"(\", \"\\(\" )\n",
    "    newString = newString.replace(\")\", \"\\)\" )\n",
    "    return newString\n",
    "\n",
    "\n",
    "def plotstroke_new(ax, xs, ys, onecolor, file_ind, outputDirectory):\n",
    "    #print onestroke\n",
    "    ySizeOfImage = 500\n",
    "    xSizeOfImage = 500\n",
    "    assert(len(xs) == len(ys))\n",
    "    #this flips the axis \n",
    "#     ax.invert_yaxis()\n",
    "    \n",
    "    for i in range(len(xs)):\n",
    "        x, y = xs[:i], ys[:i]\n",
    "        temp_plot = ax.plot(x,y,lw=4, color=onecolor)\n",
    "        savefig(outputDirectory + 'image%02d_%04d' %(file_ind, i))\n",
    "    \n",
    "#     ax.invert_yaxis()\n",
    "    \n",
    "#     ## TOMER EDITING HERE\n",
    "#     strokeDirectory = outputFolder + \"tomerInsanity/\"\n",
    "#     f2 = figure()\n",
    "#     ax2 = f2.gca()\n",
    "#     ax2.invert_yaxis()\n",
    "#     for i in range(len(xs)):\n",
    "#         x, y = xs[:i], ys[:i]\n",
    "#         temp_plot = ax2.plot(x,y,lw=3, color=onecolor)\n",
    "#     ## TOMER EDITING HERE\n",
    "#     savefig(strokeDirectory + \"stroke\" + str(file_ind))\n",
    "#     ax2.invert_yaxis()\n",
    "#     ## TOMER END EDITING HERE"
   ]
  },
  {
   "cell_type": "code",
   "execution_count": 99,
   "metadata": {},
   "outputs": [],
   "source": [
    "def makeimage(in_file, outputDirectory):\n",
    "\n",
    "    strokeColors = [\"blue\",\"red\",\"green\",\"yellow\",\"magenta\",\"black\",\n",
    "                   \"cyan\", sns.xkcd_rgb[\"poop\"], sns.xkcd_rgb[\"faded green\"],sns.xkcd_rgb[\"dusty purple\"],\n",
    "                    sns.xkcd_rgb[\"hot pink\"],sns.xkcd_rgb[\"golden yellow\"],sns.xkcd_rgb[\"electric purple\"],\n",
    "                    sns.xkcd_rgb[\"light lime\"],sns.xkcd_rgb[\"egg shell\"],sns.xkcd_rgb[\"brick red\"],\n",
    "                    sns.xkcd_rgb[\"baby blue\"],sns.xkcd_rgb[\"yellow\"],sns.xkcd_rgb[\"violet\"],sns.xkcd_rgb[\"aqua\"],\n",
    "                    sns.xkcd_rgb[\"brick red\"],sns.xkcd_rgb[\"lilac\"],sns.xkcd_rgb[\"olive\"],sns.xkcd_rgb[\"olive\"],\n",
    "                    sns.xkcd_rgb[\"peach\"],sns.xkcd_rgb[\"lime\"],sns.xkcd_rgb[\"dark pink\"],\n",
    "                    sns.xkcd_rgb[\"navy\"],sns.xkcd_rgb[\"rust\"],sns.xkcd_rgb[\"slate\"],\n",
    "                    sns.xkcd_rgb[\"coral\"],sns.xkcd_rgb[\"sage\"],sns.xkcd_rgb[\"grape\"],\n",
    "                    sns.xkcd_rgb[\"wine\"],sns.xkcd_rgb[\"vomit\"],sns.xkcd_rgb[\"sky\"],\n",
    "                    sns.xkcd_rgb[\"lemon\"],sns.xkcd_rgb[\"maize\"],sns.xkcd_rgb[\"celery\"],\n",
    "                    sns.xkcd_rgb[\"wheat\"],sns.xkcd_rgb[\"watermelon\"],sns.xkcd_rgb[\"drab\"],\n",
    "                    sns.xkcd_rgb[\"snot\"],sns.xkcd_rgb[\"berry\"],sns.xkcd_rgb[\"golden\"],\n",
    "                    sns.xkcd_rgb[\"wine\"],sns.xkcd_rgb[\"vomit\"],sns.xkcd_rgb[\"sky\"],\n",
    "                    sns.xkcd_rgb[\"lemon\"],sns.xkcd_rgb[\"maize\"],sns.xkcd_rgb[\"celery\"]\n",
    "                   ]\n",
    "    # strokeColors = [\"black\"] #THIS MAKES ALL STROKES BLACK, ALSO HAVE TO FIX SOMEWHERE ELSE TO GO BACK TO COLORS\n",
    "    #strokes = letter[u'strokes']\n",
    "    \n",
    "    strokes = []\n",
    "    rows = []\n",
    "    with open(in_file, newline='') as csvfile:\n",
    "        rows = [list(map(float, row)) for row in csv.reader(csvfile, delimiter=',')]\n",
    "        curr_stroke = []\n",
    "        stroke_idx = 0\n",
    "\n",
    "        for row in rows:\n",
    "            if row[3] != stroke_idx:\n",
    "                stroke_idx = row[3]\n",
    "                strokes.append(curr_stroke)\n",
    "                curr_stroke = []\n",
    "            curr_stroke.append(row)\n",
    "        strokes.append(curr_stroke)\n",
    "    \n",
    "    strokes = [stroke for stroke in strokes if len(stroke) > 0]\n",
    "    \n",
    "    print(strokes)\n",
    "    \n",
    "    all_x, all_y, t_, s_ = zip(*rows)\n",
    "    \n",
    "    f = figure() # ray\n",
    "    ax = f.gca() # ray\n",
    "    yticks([])\n",
    "    xticks([])\n",
    "    xlim(min(all_x), max(all_x))\n",
    "    ylim(min(all_y), max(all_y))\n",
    "    allX = []\n",
    "    allY = []\n",
    "    allStrokeNumbers = []\n",
    "    \n",
    "    #Added\n",
    "#     allTimes = []\n",
    "#     init_time = list(strokes[0])[0][2]\n",
    "#     init_time_index = dateutil.parser.parse(init_time)\n",
    "#     def rel_time_index(p):\n",
    "#         time = p[0]\n",
    "#         td =  dateutil.parser.parse(time) - init_time_index\n",
    "#         ms = int(td.seconds*1000 + td.microseconds/1000)\n",
    "#         return ms\n",
    "    \n",
    "    for i in range(len(strokes)):\n",
    "        color = strokeColors[i] #MAKE THE 0 AN i TO GO BACK TO COLORS\n",
    "        stroke = strokes[i]\n",
    "        xs, ys, t, stroke = zip(*stroke)\n",
    "#         times = map(rel_time_index, stroke)\n",
    "#         allX.append(xs)\n",
    "#         allY.append(ys)\n",
    "#         allStrokeNumbers.append([i+1]*len(stroke))\n",
    "        #Added\n",
    "#         allTimes.append(times)\n",
    "        \n",
    "        plotstroke_new(ax, xs, ys, color, i, outputDirectory)\n",
    "#     allX = flatList(allX)\n",
    "#     allY = flatList(allY)\n",
    "#     allStrokeNumbers = flatList(allStrokeNumbers)\n",
    "    \n",
    "    #Added\n",
    "#     allTimes = flatList(allTimes)\n",
    "#     joint = array([allX, allY, allTimes, allStrokeNumbers]).transpose()\n",
    "#     savetxt(outputDirectory + \"data.csv\", joint, delimiter=\",\")"
   ]
  },
  {
   "cell_type": "code",
   "execution_count": 100,
   "metadata": {},
   "outputs": [
    {
     "name": "stdout",
     "output_type": "stream",
     "text": [
      "[[[25.596, -36.042, 0.1, 1.0], [26.529, -35.047, 0.1, 1.0], [27.622, -33.94, 0.1, 1.0], [28.819, -32.835, 0.1, 1.0], [30.07, -31.841, 0.1, 1.0], [31.313, -31.082, 0.1, 1.0], [32.474, -30.701, 0.1, 1.0], [33.461, -30.851, 0.1, 1.0], [34.229, -31.557, 0.1, 1.0], [34.793, -32.708, 0.1, 1.0], [35.17, -34.187, 0.1, 1.0], [35.375, -35.876, 0.1, 1.0], [35.426, -37.66, 0.1, 1.0], [35.339, -39.42, 0.1, 1.0], [35.134, -41.067, 0.1, 1.0], [34.841, -42.62, 0.1, 1.0], [34.493, -44.127, 0.1, 1.0], [34.124, -45.634, 0.1, 1.0], [33.768, -47.187, 0.1, 1.0], [33.458, -48.834, 0.1, 1.0], [33.225, -50.618, 0.1, 1.0], [33.08, -52.501, 0.1, 1.0], [33.004, -54.385, 0.1, 1.0], [32.98, -56.192, 0.1, 1.0], [32.993, -57.863, 0.1, 1.0], [33.027, -59.35, 0.1, 1.0], [33.068, -60.602, 0.1, 1.0]], [[36.145, -39.34, 0.1, 2.0], [37.186, -39.437, 0.1, 2.0], [38.371, -39.543, 0.1, 2.0], [39.68, -39.653, 0.1, 2.0], [41.093, -39.761, 0.1, 2.0], [42.597, -39.861, 0.1, 2.0], [44.171, -39.949, 0.1, 2.0], [45.795, -40.018, 0.1, 2.0], [47.444, -40.061, 0.1, 2.0], [49.086, -40.072, 0.1, 2.0], [50.684, -40.043, 0.1, 2.0], [52.206, -39.968, 0.1, 2.0], [53.656, -39.851, 0.1, 2.0], [55.054, -39.699, 0.1, 2.0], [56.414, -39.518, 0.1, 2.0], [57.756, -39.315, 0.1, 2.0], [59.095, -39.095, 0.1, 2.0], [60.449, -38.866, 0.1, 2.0], [61.835, -38.633, 0.1, 2.0], [63.27, -38.402, 0.1, 2.0], [64.771, -38.182, 0.1, 2.0], [66.348, -37.979, 0.1, 2.0], [67.982, -37.817, 0.1, 2.0], [69.648, -37.72, 0.1, 2.0], [71.321, -37.713, 0.1, 2.0], [72.974, -37.82, 0.1, 2.0], [74.583, -38.065, 0.1, 2.0], [76.122, -38.475, 0.1, 2.0], [77.564, -39.072, 0.1, 2.0], [78.885, -39.882, 0.1, 2.0], [80.059, -40.93, 0.1, 2.0], [81.067, -42.224, 0.1, 2.0], [81.914, -43.712, 0.1, 2.0], [82.615, -45.332, 0.1, 2.0], [83.185, -47.028, 0.1, 2.0], [83.642, -48.753, 0.1, 2.0], [84.001, -50.465, 0.1, 2.0], [84.278, -52.126, 0.1, 2.0], [84.489, -53.701, 0.1, 2.0], [84.648, -55.155, 0.1, 2.0], [84.771, -56.446, 0.1, 2.0]], [[50.273, -41.421, 0.1, 3.0], [50.311, -42.493, 0.1, 3.0], [50.363, -43.711, 0.1, 3.0], [50.436, -45.059, 0.1, 3.0], [50.537, -46.521, 0.1, 3.0], [50.672, -48.087, 0.1, 3.0], [50.848, -49.741, 0.1, 3.0], [51.074, -51.469, 0.1, 3.0], [51.357, -53.25, 0.1, 3.0], [51.705, -55.062, 0.1, 3.0], [52.124, -56.874, 0.1, 3.0], [52.621, -58.652, 0.1, 3.0], [53.199, -60.364, 0.1, 3.0], [53.855, -61.99, 0.1, 3.0], [54.589, -63.506, 0.1, 3.0], [55.399, -64.893, 0.1, 3.0], [56.283, -66.128, 0.1, 3.0], [57.239, -67.191, 0.1, 3.0], [58.267, -68.058, 0.1, 3.0], [59.365, -68.709, 0.1, 3.0], [60.53, -69.123, 0.1, 3.0], [61.763, -69.277, 0.1, 3.0], [63.056, -69.158, 0.1, 3.0], [64.393, -68.782, 0.1, 3.0], [65.749, -68.172, 0.1, 3.0], [67.103, -67.352, 0.1, 3.0], [68.432, -66.346, 0.1, 3.0], [69.714, -65.177, 0.1, 3.0], [70.926, -63.868, 0.1, 3.0], [72.045, -62.445, 0.1, 3.0], [73.049, -60.929, 0.1, 3.0], [73.916, -59.344, 0.1, 3.0], [74.623, -57.715, 0.1, 3.0], [75.17, -56.07, 0.1, 3.0], [75.572, -54.438, 0.1, 3.0], [75.851, -52.843, 0.1, 3.0], [76.024, -51.306, 0.1, 3.0], [76.11, -49.84, 0.1, 3.0], [76.127, -48.459, 0.1, 3.0], [76.092, -47.174, 0.1, 3.0], [76.02, -45.993, 0.1, 3.0], [75.927, -44.927, 0.1, 3.0], [75.831, -43.991, 0.1, 3.0]]]\n"
     ]
    },
    {
     "data": {
      "text/plain": [
       "0"
      ]
     },
     "execution_count": 100,
     "metadata": {},
     "output_type": "execute_result"
    },
    {
     "data": {
      "image/png": "[encoded data removed]",
      "text/plain": [
       "<Figure size 432x288 with 1 Axes>"
      ]
     },
     "metadata": {},
     "output_type": "display_data"
    }
   ],
   "source": [
    "makeimage(in_file, outputFolder)\n",
    "\n",
    "os.system(\"ffmpeg -framerate 30 -pattern_type glob -i '\" + \\\n",
    "    terminalUnfuck(outputFolder) + \\\n",
    "    \"*.png' -c:v libx264 -pix_fmt yuv420p \" + \n",
    "    terminalUnfuck(outputFolder) + \"out.mp4\")\n",
    "\n",
    "# os.system(\"convert -delay 1.5 \" + terminalUnfuck(outputFolder) +  \\\n",
    "#     \"/*.png \" + terminalUnfuck(outputFolder) + \"tout.gif\")"
   ]
  },
  {
   "cell_type": "code",
   "execution_count": null,
   "metadata": {},
   "outputs": [],
   "source": []
  },
  {
   "cell_type": "code",
   "execution_count": null,
   "metadata": {},
   "outputs": [],
   "source": []
  }
 ],
 "metadata": {
  "kernelspec": {
   "display_name": "Python 3",
   "language": "python",
   "name": "python3"
  },
  "language_info": {
   "codemirror_mode": {
    "name": "ipython",
    "version": 3
   },
   "file_extension": ".py",
   "mimetype": "text/x-python",
   "name": "python",
   "nbconvert_exporter": "python",
   "pygments_lexer": "ipython3",
   "version": "3.7.4"
  }
 },
 "nbformat": 4,
 "nbformat_minor": 2
}
